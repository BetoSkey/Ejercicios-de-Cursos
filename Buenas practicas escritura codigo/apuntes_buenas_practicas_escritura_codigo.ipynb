{
 "cells": [
  {
   "cell_type": "markdown",
   "id": "a1f7ef92",
   "metadata": {},
   "source": [
    "# Buenas Practicas de Escritura de Codigo"
   ]
  },
  {
   "cell_type": "markdown",
   "id": "5e111788",
   "metadata": {},
   "source": [
    "### Calidad al Código:\n",
    "Los siguientes elementos dotan de **calidad al código**:\n",
    "* **Legibilidad:** qué tan fácil es interpretar lo que el código dice.  \n",
    "    (falta de indentacion, nombres de variables malos)\n",
    "* **Mantenibilidad:** cuánto esfuerzo supondrá adaptar el código a nuevos requerimientos.\n",
    "* **Testeabilidad:** cuánto esfuerzo supondrá realizar pruebas sobre este código. (esfuerzo para demostrar que el codigo funciona)"
   ]
  },
  {
   "cell_type": "markdown",
   "id": "c1ff743f",
   "metadata": {},
   "source": [
    "### Codigo Modular:\n",
    "    Pedazos de códigos divididos que pueden ser utilizados en cualquier lugar para evitar tener un solo archivo con un bloque de código gigante.\n",
    "\n",
    "Se puede modular:\n",
    "* todo lo que este \"dentro\" de ciclos **<ins>for, while</ins>**\n",
    "* todos los **<ins>if</ins>**, verificando que variables regresa y que parametros evalua que serian los parametros que recibiria la funcion. cuando la funcion regresa dos resultados, se pueden asignar de la siguiente manera:  \n",
    ">variable_a, variable_b = funcion_que_regresa_dos_resultados()"
   ]
  },
  {
   "cell_type": "markdown",
   "id": "39a5fdb3",
   "metadata": {},
   "source": [
    "### Codigo Reutilizable:  \n",
    "* Mantén tu código **DRY** (O SECO, en español). Es decir **<ins>“Don’t Repeat Yourself”</ins>** (O “No te repitas”)\n",
    "* Haz métodos o **funciones que hagan solamente una cosa**.\n",
    "* Haz **pruebas unitarias** *(unittest)* para tus métodos y que sean fáciles de testear \n",
    "* Trata de pensar de forma abstracta, usa interfaces o **clases abstractas**\n",
    "* Escribe código **que se pueda extender fácilmente en un futuro** \n",
    "    (Básicamente que modificarlo no signifique prenderle fuego a medio código)\n",
    "* No escribas **código innecesario** o que no hace falta en el momento.\n",
    "* **Reduce el acoplamiento**. Acoplamiento hace referencia a que, el <ins>comportamiento de una función depende enteramente de lo que retorne otra función, y esta de otra, y otra, y otra…</ins>)\n",
    "* **Usa** más **código modular**.\n",
    "* **Escribe** tu código **como** si fuera una **API externa** (<ins>Que se pueda importar de otro código y sirva completamente</ins>)"
   ]
  },
  {
   "cell_type": "markdown",
   "id": "211bec15",
   "metadata": {},
   "source": [
    "### Codigo organizado:\n",
    "Un ejemplo para mantener organizado un proyecto seria:\n",
    "    \n",
    "    /public\n",
    "        (todos los archivos accesibles fuera del servidor)\n",
    "    /src\n",
    "        (codigo fuente)\n",
    "    /test\n",
    "        (pruebas unitarias)\n",
    "    /vendor\n",
    "        (librerias de terceros)"
   ]
  },
  {
   "cell_type": "markdown",
   "id": "d7f1f7c1",
   "metadata": {},
   "source": [
    "### Evitar el hardcoding:\n",
    "Significa **evitar usar literales** en lugar de identificadores.\n",
    "Por ejemplo:  \n",
    "    \n",
    "    funcion(a):  \n",
    "        a + 20  \n",
    "en lugar de:  \n",
    "    \n",
    "    b=20  \n",
    "    funcion(a, b):  \n",
    "        a + b "
   ]
  },
  {
   "cell_type": "markdown",
   "id": "bc0dc393",
   "metadata": {},
   "source": [
    "### Evitar efectos colaterales:\n",
    "Evitar usar variables globales; esto es, **debes usar variables dentro de las funciones** en lugar de usar variables que se encuentren fuera."
   ]
  },
  {
   "cell_type": "markdown",
   "id": "cc90e406",
   "metadata": {},
   "source": [
    "### PRINCIPIOS SOLID:\n",
    ">### S: \n",
    "**Single Reponsibility Principle**\n",
    "    (una sola responsabilidad para cada clase, muy concisa)\n",
    "    La idea es evitar que una sola clase haga muchas cosas en lo que podría compararse con un “hombre orquesta”.  \n",
    ">### O: \n",
    "**Open/Closed Principle**\n",
    "    (Invita a usar las clases abstractas; abierto para la extensión pero cerrado para la modificación)\n",
    "    ejemplo:\n",
    "\n",
    "            #se pueden crear mas tipos de documentos que se procesen de diferente manera sin modificar los actuales.\n",
    "            clase_procesar_documentos:\n",
    "                def procesa_documento([docuemntos]):\n",
    "                    for documento in documentos:\n",
    "                        procesa documento\n",
    "\n",
    "            class documento1:\n",
    "                def procesa_documento()\n",
    "                    1 + 1\n",
    "\n",
    "            class documento2:\n",
    "                def procesa documento()\n",
    "                    1 + 3\n",
    "\n",
    ">### L: \n",
    "**Liskov Substitution Principle**\n",
    "    (una funcion que recia un objeto de la clase padre podra ser sustituido por cualquier clase hija sin que afecte su resultado.)  \n",
    ">### I: \n",
    "**Interface Segregation Principle**\n",
    "    (los clientes de un programa sólo deberían conocer de éste los metodos que realmente usan.)\n",
    "    # hace referencia al polimorfismo\n",
    "\n",
    "            class actividad_a:\n",
    "                def realiza_actividad_a():\n",
    "                    realiza actividad\n",
    "            class actividad_b:\n",
    "                def realiza_actividad_b():\n",
    "                    realiza actividad\n",
    "            class actividad_c:\n",
    "                def realiza_actividad_c():\n",
    "                    realiza actividad\n",
    "\n",
    "            class cliente_hace_actividad_a_y_b(actividad_a, actividad_b):\n",
    "                def realiza_actividad_a()\n",
    "                def realiza_actividad_b()\n",
    "\n",
    "            class cliente_hace_actividad_b_y_c(actividad_b, actividad_c):\n",
    "                def realiza_actividad_b()\n",
    "                def realiza_actividad_c()\n",
    "\n",
    ">### D: \n",
    "**Dependency Inversion Principle**\n",
    "    Los módulos de alto nivel no deben depender de los de bajo nivel, ambos deben depender de abstracciones.\n",
    "    Se aplica el principio de minimo compromiso; se refiere al proceso por el cuál la interfaz de un objeto \n",
    "    muestra su comportamiento específico y nada más, absolutamente nada más.\n",
    "\n",
    "            En otras palabras la abstracción se enfoca en “que hace” sin importar en “cómo lo hace”"
   ]
  },
  {
   "cell_type": "markdown",
   "id": "3ccec092",
   "metadata": {},
   "source": [
    "### PATRONES DE DISEÑO:\n",
    "Son soluciones de arquitectura de software aplicables a diferentes problemas."
   ]
  },
  {
   "cell_type": "code",
   "execution_count": null,
   "id": "961accb0",
   "metadata": {},
   "outputs": [],
   "source": []
  }
 ],
 "metadata": {
  "kernelspec": {
   "display_name": "Python 3",
   "language": "python",
   "name": "python3"
  },
  "language_info": {
   "codemirror_mode": {
    "name": "ipython",
    "version": 3
   },
   "file_extension": ".py",
   "mimetype": "text/x-python",
   "name": "python",
   "nbconvert_exporter": "python",
   "pygments_lexer": "ipython3",
   "version": "3.8.8"
  }
 },
 "nbformat": 4,
 "nbformat_minor": 5
}
