{
 "cells": [
  {
   "cell_type": "markdown",
   "id": "bcb84887",
   "metadata": {},
   "source": [
    "# <span style=\"color:red\">Estadistica Nivel Universitario</span>"
   ]
  },
  {
   "cell_type": "code",
   "execution_count": 1,
   "id": "b8772929",
   "metadata": {},
   "outputs": [],
   "source": [
    "import pandas as pd\n",
    "import numpy as np\n",
    "import pandas as pd\n",
    "import sys\n",
    "sys.path.append(\n",
    "    '../../cursos/Estadistica Computacional con Python/Formulas Estadisticas/')"
   ]
  },
  {
   "cell_type": "code",
   "execution_count": 2,
   "id": "01d8cef5",
   "metadata": {},
   "outputs": [],
   "source": [
    "from formulas_estadisticas import calculo_frecuencias_absolutas, media, mediana, moda, \\\n",
    "    medidas_posicion, Diagrama_caja_bigotes, varianza, desviacion_estandar, \\\n",
    "    coeficiente_variacion, asimetria_pearson, calculo_frecuencias_absolutas, Metodo_binario"
   ]
  },
  {
   "cell_type": "markdown",
   "id": "ff42781b",
   "metadata": {},
   "source": [
    "### Muestra"
   ]
  },
  {
   "cell_type": "code",
   "execution_count": null,
   "id": "26da7340",
   "metadata": {},
   "outputs": [],
   "source": []
  }
 ],
 "metadata": {
  "kernelspec": {
   "display_name": "Python 3",
   "language": "python",
   "name": "python3"
  },
  "language_info": {
   "codemirror_mode": {
    "name": "ipython",
    "version": 3
   },
   "file_extension": ".py",
   "mimetype": "text/x-python",
   "name": "python",
   "nbconvert_exporter": "python",
   "pygments_lexer": "ipython3",
   "version": "3.8.8"
  }
 },
 "nbformat": 4,
 "nbformat_minor": 5
}
