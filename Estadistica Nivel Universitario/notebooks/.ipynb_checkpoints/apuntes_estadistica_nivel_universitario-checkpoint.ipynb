{
 "cells": [
  {
   "cell_type": "markdown",
   "id": "bcb84887",
   "metadata": {},
   "source": [
    "# <span style=\"color:red\">Estadistica Nivel Universitario</span>"
   ]
  },
  {
   "cell_type": "code",
   "execution_count": 1,
   "id": "b8772929",
   "metadata": {},
   "outputs": [],
   "source": [
    "import pandas as pd\n",
    "import numpy as np\n",
    "import pandas as pd\n",
    "import matplotlib.pyplot as plt\n",
    "%matplotlib inline\n",
    "import sys\n",
    "sys.path.append(\n",
    "    '../../Estadistica Computacional con Python/Formulas Estadisticas/')"
   ]
  },
  {
   "cell_type": "code",
   "execution_count": 2,
   "id": "01d8cef5",
   "metadata": {},
   "outputs": [],
   "source": [
    "from formulas_estadisticas import calculo_frecuencias, media, mediana, moda, \\\n",
    "    medidas_posicion, Diagrama_caja_bigotes, varianza, desviacion_estandar, varianza, \\\n",
    "    coeficiente_variacion, asimetria_pearson, calculo_frecuencias, Metodo_binario"
   ]
  },
  {
   "cell_type": "code",
   "execution_count": 3,
   "id": "5815e2a2",
   "metadata": {},
   "outputs": [],
   "source": [
    "pd.set_option('precision', 2)"
   ]
  },
  {
   "cell_type": "markdown",
   "id": "ff42781b",
   "metadata": {},
   "source": [
    "<a id=\"1\"></a>\n",
    "### <span style=\"color:green\">Muestra Aleatoria Simple (MAS)</span>"
   ]
  },
  {
   "cell_type": "markdown",
   "id": "3310c5fc",
   "metadata": {},
   "source": [
    "<img src=\"../imagenes/muestra_aleatoria_simple.jpg\" width=\"200\" height=\"200\" align='left'>"
   ]
  },
  {
   "cell_type": "markdown",
   "id": "c8aebe8b",
   "metadata": {},
   "source": [
    "* La muestra tiene que ser representativa de la poblacion.\n",
    "* Tiene la misma probabilidad de ser escogidos, los elementos podrian estar repetidos."
   ]
  },
  {
   "cell_type": "markdown",
   "id": "baa31b0d",
   "metadata": {},
   "source": [
    "<a id=\"2\"></a>\n",
    "### <span style=\"color:green\">Variable Aleatoria</span>"
   ]
  },
  {
   "cell_type": "markdown",
   "id": "f878fbea",
   "metadata": {},
   "source": [
    "Es una **caracteristica de la poblacion**\n",
    ">*(altura, sexo, ciudad, etc.)*\n",
    "\n",
    "Sigue un determinado comportamiento llamado **Distribucion**\n",
    "\n",
    "Hay dos tipos:  \n",
    "* **Discreta**  \n",
    "> **Valores enteros, contables, numerables)**  \n",
    ">**ojo**  tambien las caracteristicas como sexo: <span style=\"color:blue\">[masculino(1)/femenino(2)]</span>, ciudad: <span style=\"color:blue\">[Merida(1), Guadalajara(2), ...]</span> etc, que son descriptivas pero **suceptibles a enumerarse**, son discretas\n",
    "* **Continua**\n",
    ">**Valores reales en un intervalo dificilmente repetibles**  \n",
    ">ejemplo: peso o altura, son muy dificiles de repetir entre los elementos de la muestra"
   ]
  },
  {
   "cell_type": "markdown",
   "id": "8f76b0b4",
   "metadata": {},
   "source": [
    "<a id=\"3\"></a>\n",
    "### <span style=\"color:green\">Objetivo de la Estadistica</span>"
   ]
  },
  {
   "cell_type": "markdown",
   "id": "348554e2",
   "metadata": {},
   "source": [
    "### En resumen:\n",
    "* Nos va a interesar una caracteristica, esa va a ser la **Variable Aleatorea**\n",
    "* Puede ser una variable de tipo **Discreto** o de tipo **Dontinuo**\n",
    "* Se mide la caracteristica en una poblacion pero es demasiado grande\n",
    "* Se toma una **Muestra** representativa de esa caracteristica en la poblacion\n",
    "* Se <ins>estudia</ins> por completo a la <ins>muestra</ins> para obtener **informacion** de la <ins>poblacion</ins>"
   ]
  },
  {
   "cell_type": "markdown",
   "id": "2e6f4d34",
   "metadata": {},
   "source": [
    "<img src=\"../imagenes/ejemplo_muestreo.jpg\" width=\"300\" height=\"300\" align='left'>"
   ]
  },
  {
   "cell_type": "markdown",
   "id": "875461f1",
   "metadata": {},
   "source": [
    "<a id=\"4\"></a>\n",
    "# <span style=\"color:green\">Estadistica Descriptiva</span>"
   ]
  },
  {
   "cell_type": "markdown",
   "id": "57364273",
   "metadata": {},
   "source": [
    "Tiene como objetivo resumir, analizar y sacar conclusiones sobre ese\n",
    "conjunto de datos."
   ]
  },
  {
   "cell_type": "markdown",
   "id": "a8f0582d",
   "metadata": {},
   "source": [
    "<img src=\"../imagenes/estadistica_descriptiva.jpg\" width=\"600\" height=\"600\" align='left'>"
   ]
  },
  {
   "cell_type": "markdown",
   "id": "27f81f2b",
   "metadata": {},
   "source": [
    "## Tablas de Frecuencias:\n",
    ">**Clase:** datos no agrupados.  \n",
    ">**Frecuencia Absoluta:** cantidad de veces que se repite la clase.  \n",
    ">**Frecuencia Absoluta Acumulada:** acumula las frecuencias absolutas.  \n",
    ">**Frecuencia Relativa:** frecuencia absoluta dividida entre el total.  \n",
    ">**Frecuencia Relativa Acumulada:** acumula las frecuencias relativas.  \n"
   ]
  },
  {
   "cell_type": "markdown",
   "id": "c34e1d27",
   "metadata": {},
   "source": [
    "## Graficos:\n",
    ">**Pie:** Cada sector representa la frecuencia absoluta(#) o relativa (%) de cada clase.  \n",
    ">**Histograma:** Tambien representa las frecuencias absolutas o relativas, sin embargo podemos ver la forma de la distribucion de la variable aleatoria, si existe simetria, donde se concentran mas los valores de la variable."
   ]
  },
  {
   "cell_type": "markdown",
   "id": "8eac8322",
   "metadata": {},
   "source": [
    "## Resumenes Numericos:\n",
    ">**Media:** Promedio.  \n",
    ">**Mediana:** Es el valor intermedio despues de haber ordenado los datos de menor a mayor.  \n",
    ">**Moda:** Es el valor que mas se repite.  \n",
    ">**Varianza** Variabilidad de los datos con respecto a la media al cuadrado de la desviacion tipica, se diferencia de la desviacion tipica porque es necesaria para obtener otros parametros aunque ambas midan lo mismo.  \n",
    ">**Desviacion Tipica (estandar)** Mide variabilidad de los datos con respecto a la media con la medida inicial o real."
   ]
  },
  {
   "cell_type": "markdown",
   "id": "7cade7e2",
   "metadata": {},
   "source": [
    "## <span style=\"color:green\">Datos Agrupados y no Agrupados</span>"
   ]
  },
  {
   "cell_type": "markdown",
   "id": "a585b2be",
   "metadata": {},
   "source": [
    ">**Datos <ins>NO Agrupados</ins>:** Es el conjunto de observaciones que se presentan en su forma original, tal y como fueron recolectados.  \n",
    ">**Datos <ins>Agrupados</ins>:** Cuando tenemos valores o intervalos de valores y su frecuencia. Es una forma mas compacta de ver los datos."
   ]
  },
  {
   "cell_type": "markdown",
   "id": "9f2612c6",
   "metadata": {},
   "source": [
    "#### Ejemplo 1\n",
    "Se ha solicitado a un grupo de 50 individuos informacion sobre el numero de horas que dedican diariamente a dormir. La clasificacion de las respuestas ha permitido elaborar la siguiente tabla:"
   ]
  },
  {
   "cell_type": "code",
   "execution_count": 4,
   "id": "4c46f50b",
   "metadata": {},
   "outputs": [],
   "source": [
    "horas_dormir = {'xi': range(6, 11), 'fa': [3, 16, 20, 10, 1]}\n",
    "horas_dormir = pd.DataFrame(horas_dormir)\n",
    "horas_dormir.set_index('xi', inplace=True)"
   ]
  },
  {
   "cell_type": "code",
   "execution_count": 5,
   "id": "e088db7e",
   "metadata": {},
   "outputs": [
    {
     "data": {
      "text/html": [
       "<div>\n",
       "<style scoped>\n",
       "    .dataframe tbody tr th:only-of-type {\n",
       "        vertical-align: middle;\n",
       "    }\n",
       "\n",
       "    .dataframe tbody tr th {\n",
       "        vertical-align: top;\n",
       "    }\n",
       "\n",
       "    .dataframe thead th {\n",
       "        text-align: right;\n",
       "    }\n",
       "</style>\n",
       "<table border=\"1\" class=\"dataframe\">\n",
       "  <thead>\n",
       "    <tr style=\"text-align: right;\">\n",
       "      <th></th>\n",
       "      <th>fa</th>\n",
       "    </tr>\n",
       "    <tr>\n",
       "      <th>xi</th>\n",
       "      <th></th>\n",
       "    </tr>\n",
       "  </thead>\n",
       "  <tbody>\n",
       "    <tr>\n",
       "      <th>6</th>\n",
       "      <td>3</td>\n",
       "    </tr>\n",
       "    <tr>\n",
       "      <th>7</th>\n",
       "      <td>16</td>\n",
       "    </tr>\n",
       "    <tr>\n",
       "      <th>8</th>\n",
       "      <td>20</td>\n",
       "    </tr>\n",
       "    <tr>\n",
       "      <th>9</th>\n",
       "      <td>10</td>\n",
       "    </tr>\n",
       "    <tr>\n",
       "      <th>10</th>\n",
       "      <td>1</td>\n",
       "    </tr>\n",
       "  </tbody>\n",
       "</table>\n",
       "</div>"
      ],
      "text/plain": [
       "    fa\n",
       "xi    \n",
       "6    3\n",
       "7   16\n",
       "8   20\n",
       "9   10\n",
       "10   1"
      ]
     },
     "execution_count": 5,
     "metadata": {},
     "output_type": "execute_result"
    }
   ],
   "source": [
    "horas_dormir"
   ]
  },
  {
   "cell_type": "code",
   "execution_count": 6,
   "id": "995c1276",
   "metadata": {},
   "outputs": [
    {
     "data": {
      "image/png": "[encoded data removed]",
      "text/plain": [
       "<Figure size 432x288 with 1 Axes>"
      ]
     },
     "metadata": {},
     "output_type": "display_data"
    }
   ],
   "source": [
    "plt.style.use('fivethirtyeight')\n",
    "horas_dormir.plot(kind='bar', width=1);"
   ]
  },
  {
   "cell_type": "code",
   "execution_count": 7,
   "id": "e5b449b5",
   "metadata": {},
   "outputs": [
    {
     "data": {
      "image/png": "[encoded data removed]",
      "text/plain": [
       "<Figure size 432x288 with 1 Axes>"
      ]
     },
     "metadata": {},
     "output_type": "display_data"
    }
   ],
   "source": [
    "plt.style.use('ggplot')\n",
    "horas_dormir.plot(kind='pie', y='fa', legend=False);"
   ]
  },
  {
   "cell_type": "markdown",
   "id": "268a150e",
   "metadata": {},
   "source": [
    "### Pandas no contempla el calculo para datos agrupados"
   ]
  },
  {
   "cell_type": "code",
   "execution_count": 8,
   "id": "a56f02a3",
   "metadata": {},
   "outputs": [
    {
     "name": "stdout",
     "output_type": "stream",
     "text": [
      "n: 50, media: 10.0, \n",
      "mediana: 10.0, \n",
      "varianza: 66.5, \n",
      "desviacion estandar: 8.154753215150045\n",
      "\n"
     ]
    }
   ],
   "source": [
    "# Usando formulas de pandas, en general no se puede determinar correctamente para datos agrupados\n",
    "n_horas = horas_dormir.sum()\n",
    "\n",
    "media_horas = horas_dormir.mean()\n",
    "\n",
    "mediana_horas = horas_dormir.median()\n",
    "\n",
    "# La moda por intervalos no puede determinarse en pandas\n",
    "\n",
    "std_horas = horas_dormir.std()\n",
    "\n",
    "var_horas = std_horas**2\n",
    "\n",
    "\n",
    "print(\n",
    "f'''n: {n_horas[0]}, media: {media_horas[0]}, \n",
    "mediana: {mediana_horas[0]}, \n",
    "varianza: {var_horas[0]}, \n",
    "desviacion estandar: {std_horas[0]}\n",
    "'''\n",
    ")"
   ]
  },
  {
   "cell_type": "markdown",
   "id": "e6b5cfcc",
   "metadata": {},
   "source": [
    "### Usando mis formulas \"si\" funciona"
   ]
  },
  {
   "cell_type": "code",
   "execution_count": 9,
   "id": "b9c19a89",
   "metadata": {},
   "outputs": [
    {
     "name": "stdout",
     "output_type": "stream",
     "text": [
      "n: 50, media: 7.8, \n",
      "mediana: 8, moda: 8, \n",
      "varianza: 0.8000000000000043, \n",
      "desviacion estandar: 0.8944271909999183\n",
      "\n"
     ]
    }
   ],
   "source": [
    "# Usando mis formulas se puede determinar el resultado para datos agrupados.\n",
    "\n",
    "n_propia = sum(horas_dormir.iloc[:,0])\n",
    "\n",
    "media_horas_propia = media(horas_dormir, agrupados=True)\n",
    "\n",
    "mediana_horas_propia = mediana(horas_dormir, agrupados=True)\n",
    "\n",
    "moda_horas_propia = moda(horas_dormir, agrupados=True)\n",
    "\n",
    "std_horas_propia = desviacion_estandar(horas_dormir, agrupados=True)\n",
    "\n",
    "var_horas_propia = varianza(horas_dormir, agrupados=True)\n",
    "\n",
    "print(\n",
    "f'''n: {n_propia}, media: {media_horas_propia}, \n",
    "mediana: {mediana_horas_propia}, moda: {moda_horas_propia}, \n",
    "varianza: {var_horas_propia}, \n",
    "desviacion estandar: {std_horas_propia}\n",
    "'''\n",
    ")"
   ]
  },
  {
   "cell_type": "markdown",
   "id": "af5566cf",
   "metadata": {},
   "source": [
    "#### Ejemplo 2 \n",
    "#### \"Agrupados por invetalos\"\n",
    "Se tienen los siguientes datos de peso en kg de 100 individuos"
   ]
  },
  {
   "cell_type": "code",
   "execution_count": 10,
   "id": "37d70d17",
   "metadata": {},
   "outputs": [],
   "source": [
    "pesos_individuos = {'intervalos': [(60, 63), (63, 66), (66, 69), (69, 72), (72, 75)], 'fa': [5, 18, 42, 27, 8]}\n",
    "pesos_individuos = pd.DataFrame(pesos_individuos)\n",
    "pesos_individuos.set_index('intervalos', inplace=True)"
   ]
  },
  {
   "cell_type": "code",
   "execution_count": 11,
   "id": "382a06da",
   "metadata": {},
   "outputs": [
    {
     "data": {
      "text/html": [
       "<div>\n",
       "<style scoped>\n",
       "    .dataframe tbody tr th:only-of-type {\n",
       "        vertical-align: middle;\n",
       "    }\n",
       "\n",
       "    .dataframe tbody tr th {\n",
       "        vertical-align: top;\n",
       "    }\n",
       "\n",
       "    .dataframe thead th {\n",
       "        text-align: right;\n",
       "    }\n",
       "</style>\n",
       "<table border=\"1\" class=\"dataframe\">\n",
       "  <thead>\n",
       "    <tr style=\"text-align: right;\">\n",
       "      <th></th>\n",
       "      <th>fa</th>\n",
       "    </tr>\n",
       "    <tr>\n",
       "      <th>intervalos</th>\n",
       "      <th></th>\n",
       "    </tr>\n",
       "  </thead>\n",
       "  <tbody>\n",
       "    <tr>\n",
       "      <th>(60, 63)</th>\n",
       "      <td>5</td>\n",
       "    </tr>\n",
       "    <tr>\n",
       "      <th>(63, 66)</th>\n",
       "      <td>18</td>\n",
       "    </tr>\n",
       "    <tr>\n",
       "      <th>(66, 69)</th>\n",
       "      <td>42</td>\n",
       "    </tr>\n",
       "    <tr>\n",
       "      <th>(69, 72)</th>\n",
       "      <td>27</td>\n",
       "    </tr>\n",
       "    <tr>\n",
       "      <th>(72, 75)</th>\n",
       "      <td>8</td>\n",
       "    </tr>\n",
       "  </tbody>\n",
       "</table>\n",
       "</div>"
      ],
      "text/plain": [
       "            fa\n",
       "intervalos    \n",
       "(60, 63)     5\n",
       "(63, 66)    18\n",
       "(66, 69)    42\n",
       "(69, 72)    27\n",
       "(72, 75)     8"
      ]
     },
     "execution_count": 11,
     "metadata": {},
     "output_type": "execute_result"
    }
   ],
   "source": [
    "pesos_individuos"
   ]
  },
  {
   "cell_type": "code",
   "execution_count": 12,
   "id": "fa038d67",
   "metadata": {},
   "outputs": [
    {
     "data": {
      "image/png": "[encoded data removed]",
      "text/plain": [
       "<Figure size 432x288 with 1 Axes>"
      ]
     },
     "metadata": {},
     "output_type": "display_data"
    }
   ],
   "source": [
    "pesos_individuos.plot(kind='bar', width=1);"
   ]
  },
  {
   "cell_type": "code",
   "execution_count": 13,
   "id": "f737225b",
   "metadata": {},
   "outputs": [
    {
     "data": {
      "image/png": "[encoded data removed]",
      "text/plain": [
       "<Figure size 432x288 with 1 Axes>"
      ]
     },
     "metadata": {},
     "output_type": "display_data"
    }
   ],
   "source": [
    "plt.style.use('ggplot')\n",
    "pesos_individuos.plot(kind='pie', y='fa', legend=False);"
   ]
  },
  {
   "cell_type": "code",
   "execution_count": 14,
   "id": "4c1fe27e",
   "metadata": {},
   "outputs": [
    {
     "name": "stdout",
     "output_type": "stream",
     "text": [
      "media: 67.95, \n",
      "mediana: 67.92857142857143, moda: 67.84615384615384, \n",
      "varianza: 8.527499999999236, \n",
      "desviacion estandar: 2.920188350089637\n",
      "\n"
     ]
    }
   ],
   "source": [
    "media_pesos = media(pesos_individuos, agrupados=True)\n",
    "mediana_pesos = mediana(pesos_individuos, agrupados=True)\n",
    "moda_pesos = moda(pesos_individuos, agrupados=True)\n",
    "varianza_pesos = varianza(pesos_individuos, agrupados=True)\n",
    "desviacion_pesos = desviacion_estandar(pesos_individuos, agrupados=True)\n",
    "\n",
    "print(\n",
    "f'''media: {media_pesos}, \n",
    "mediana: {mediana_pesos}, moda: {moda_pesos}, \n",
    "varianza: {varianza_pesos}, \n",
    "desviacion estandar: {desviacion_pesos}\n",
    "'''\n",
    ")"
   ]
  },
  {
   "cell_type": "markdown",
   "id": "e7d627e3",
   "metadata": {},
   "source": [
    "## <span style=\"color:green\">Cuantiles, Deciles, Percentiles</span>"
   ]
  },
  {
   "cell_type": "markdown",
   "id": "0df71ba4",
   "metadata": {},
   "source": [
    "Los cuantiles son medidas de posicion relativa que dividen a una distribucion **ordenada** en partes iguales; se clasifican en:  \n",
    "* Cuartiles (25%, **50%**, 75%) ***<ins>El segundo cuartil es igual a la mediana</ins>***\n",
    "* Quintiles (20%, 40%, 60%, 80%)\n",
    "* Deciles (10%, 20%, 30%, 40%, 50%, 60%, 70%, 80%, 90%)\n",
    "* Percentiles (1%, 2%, 3%, ..., 99%)\n",
    "    \n",
    "Es muy importante que los datos esten ordenados.\n"
   ]
  },
  {
   "cell_type": "markdown",
   "id": "f75c31ad",
   "metadata": {},
   "source": [
    "### Cuartiles"
   ]
  },
  {
   "cell_type": "code",
   "execution_count": 15,
   "id": "e36506ea",
   "metadata": {},
   "outputs": [
    {
     "data": {
      "text/html": [
       "<div>\n",
       "<style scoped>\n",
       "    .dataframe tbody tr th:only-of-type {\n",
       "        vertical-align: middle;\n",
       "    }\n",
       "\n",
       "    .dataframe tbody tr th {\n",
       "        vertical-align: top;\n",
       "    }\n",
       "\n",
       "    .dataframe thead th {\n",
       "        text-align: right;\n",
       "    }\n",
       "</style>\n",
       "<table border=\"1\" class=\"dataframe\">\n",
       "  <thead>\n",
       "    <tr style=\"text-align: right;\">\n",
       "      <th></th>\n",
       "      <th>0</th>\n",
       "    </tr>\n",
       "  </thead>\n",
       "  <tbody>\n",
       "    <tr>\n",
       "      <th>0</th>\n",
       "      <td>1</td>\n",
       "    </tr>\n",
       "    <tr>\n",
       "      <th>1</th>\n",
       "      <td>2</td>\n",
       "    </tr>\n",
       "    <tr>\n",
       "      <th>2</th>\n",
       "      <td>3</td>\n",
       "    </tr>\n",
       "    <tr>\n",
       "      <th>3</th>\n",
       "      <td>4</td>\n",
       "    </tr>\n",
       "    <tr>\n",
       "      <th>4</th>\n",
       "      <td>5</td>\n",
       "    </tr>\n",
       "  </tbody>\n",
       "</table>\n",
       "</div>"
      ],
      "text/plain": [
       "   0\n",
       "0  1\n",
       "1  2\n",
       "2  3\n",
       "3  4\n",
       "4  5"
      ]
     },
     "execution_count": 15,
     "metadata": {},
     "output_type": "execute_result"
    }
   ],
   "source": [
    "datos_cuartiles1 = pd.DataFrame([1, 2, 3, 4, 5])\n",
    "datos_cuartiles1"
   ]
  },
  {
   "cell_type": "code",
   "execution_count": 16,
   "id": "400824f7",
   "metadata": {},
   "outputs": [
    {
     "data": {
      "text/plain": [
       "{'Q1': (0.5, 1.5), 'Q2': (2.0, 3), 'Q3': (3.5, 4.5)}"
      ]
     },
     "execution_count": 16,
     "metadata": {},
     "output_type": "execute_result"
    }
   ],
   "source": [
    "medidas_posicion(datos_cuartiles1)"
   ]
  },
  {
   "cell_type": "code",
   "execution_count": 17,
   "id": "a8a248a9",
   "metadata": {},
   "outputs": [
    {
     "data": {
      "text/html": [
       "<div>\n",
       "<style scoped>\n",
       "    .dataframe tbody tr th:only-of-type {\n",
       "        vertical-align: middle;\n",
       "    }\n",
       "\n",
       "    .dataframe tbody tr th {\n",
       "        vertical-align: top;\n",
       "    }\n",
       "\n",
       "    .dataframe thead th {\n",
       "        text-align: right;\n",
       "    }\n",
       "</style>\n",
       "<table border=\"1\" class=\"dataframe\">\n",
       "  <thead>\n",
       "    <tr style=\"text-align: right;\">\n",
       "      <th></th>\n",
       "      <th>0</th>\n",
       "    </tr>\n",
       "  </thead>\n",
       "  <tbody>\n",
       "    <tr>\n",
       "      <th>0</th>\n",
       "      <td>1</td>\n",
       "    </tr>\n",
       "    <tr>\n",
       "      <th>1</th>\n",
       "      <td>2</td>\n",
       "    </tr>\n",
       "    <tr>\n",
       "      <th>2</th>\n",
       "      <td>3</td>\n",
       "    </tr>\n",
       "    <tr>\n",
       "      <th>3</th>\n",
       "      <td>4</td>\n",
       "    </tr>\n",
       "    <tr>\n",
       "      <th>4</th>\n",
       "      <td>5</td>\n",
       "    </tr>\n",
       "    <tr>\n",
       "      <th>5</th>\n",
       "      <td>6</td>\n",
       "    </tr>\n",
       "    <tr>\n",
       "      <th>6</th>\n",
       "      <td>7</td>\n",
       "    </tr>\n",
       "  </tbody>\n",
       "</table>\n",
       "</div>"
      ],
      "text/plain": [
       "   0\n",
       "0  1\n",
       "1  2\n",
       "2  3\n",
       "3  4\n",
       "4  5\n",
       "5  6\n",
       "6  7"
      ]
     },
     "execution_count": 17,
     "metadata": {},
     "output_type": "execute_result"
    }
   ],
   "source": [
    "datos_cuartiles2 = pd.DataFrame([1, 2, 3, 4, 5, 6, 7])\n",
    "datos_cuartiles2"
   ]
  },
  {
   "cell_type": "code",
   "execution_count": 18,
   "id": "2da8c530",
   "metadata": {},
   "outputs": [
    {
     "data": {
      "text/plain": [
       "{'Q1': (1.0, 2), 'Q2': (3.0, 4), 'Q3': (5.0, 6)}"
      ]
     },
     "execution_count": 18,
     "metadata": {},
     "output_type": "execute_result"
    }
   ],
   "source": [
    "medidas_posicion(datos_cuartiles2)"
   ]
  },
  {
   "cell_type": "markdown",
   "id": "08e36a9c",
   "metadata": {},
   "source": [
    "### Deciles"
   ]
  },
  {
   "cell_type": "code",
   "execution_count": 19,
   "id": "93de3efb",
   "metadata": {},
   "outputs": [
    {
     "data": {
      "text/html": [
       "<div>\n",
       "<style scoped>\n",
       "    .dataframe tbody tr th:only-of-type {\n",
       "        vertical-align: middle;\n",
       "    }\n",
       "\n",
       "    .dataframe tbody tr th {\n",
       "        vertical-align: top;\n",
       "    }\n",
       "\n",
       "    .dataframe thead th {\n",
       "        text-align: right;\n",
       "    }\n",
       "</style>\n",
       "<table border=\"1\" class=\"dataframe\">\n",
       "  <thead>\n",
       "    <tr style=\"text-align: right;\">\n",
       "      <th></th>\n",
       "      <th>0</th>\n",
       "    </tr>\n",
       "  </thead>\n",
       "  <tbody>\n",
       "    <tr>\n",
       "      <th>0</th>\n",
       "      <td>3</td>\n",
       "    </tr>\n",
       "    <tr>\n",
       "      <th>1</th>\n",
       "      <td>6</td>\n",
       "    </tr>\n",
       "    <tr>\n",
       "      <th>2</th>\n",
       "      <td>6</td>\n",
       "    </tr>\n",
       "    <tr>\n",
       "      <th>3</th>\n",
       "      <td>8</td>\n",
       "    </tr>\n",
       "    <tr>\n",
       "      <th>4</th>\n",
       "      <td>2</td>\n",
       "    </tr>\n",
       "    <tr>\n",
       "      <th>5</th>\n",
       "      <td>5</td>\n",
       "    </tr>\n",
       "    <tr>\n",
       "      <th>6</th>\n",
       "      <td>7</td>\n",
       "    </tr>\n",
       "    <tr>\n",
       "      <th>7</th>\n",
       "      <td>3</td>\n",
       "    </tr>\n",
       "    <tr>\n",
       "      <th>8</th>\n",
       "      <td>8</td>\n",
       "    </tr>\n",
       "    <tr>\n",
       "      <th>9</th>\n",
       "      <td>1</td>\n",
       "    </tr>\n",
       "    <tr>\n",
       "      <th>10</th>\n",
       "      <td>5</td>\n",
       "    </tr>\n",
       "    <tr>\n",
       "      <th>11</th>\n",
       "      <td>6</td>\n",
       "    </tr>\n",
       "    <tr>\n",
       "      <th>12</th>\n",
       "      <td>4</td>\n",
       "    </tr>\n",
       "    <tr>\n",
       "      <th>13</th>\n",
       "      <td>4</td>\n",
       "    </tr>\n",
       "    <tr>\n",
       "      <th>14</th>\n",
       "      <td>2</td>\n",
       "    </tr>\n",
       "    <tr>\n",
       "      <th>15</th>\n",
       "      <td>5</td>\n",
       "    </tr>\n",
       "    <tr>\n",
       "      <th>16</th>\n",
       "      <td>6</td>\n",
       "    </tr>\n",
       "    <tr>\n",
       "      <th>17</th>\n",
       "      <td>2</td>\n",
       "    </tr>\n",
       "    <tr>\n",
       "      <th>18</th>\n",
       "      <td>9</td>\n",
       "    </tr>\n",
       "    <tr>\n",
       "      <th>19</th>\n",
       "      <td>4</td>\n",
       "    </tr>\n",
       "    <tr>\n",
       "      <th>20</th>\n",
       "      <td>2</td>\n",
       "    </tr>\n",
       "    <tr>\n",
       "      <th>21</th>\n",
       "      <td>3</td>\n",
       "    </tr>\n",
       "    <tr>\n",
       "      <th>22</th>\n",
       "      <td>7</td>\n",
       "    </tr>\n",
       "    <tr>\n",
       "      <th>23</th>\n",
       "      <td>7</td>\n",
       "    </tr>\n",
       "    <tr>\n",
       "      <th>24</th>\n",
       "      <td>7</td>\n",
       "    </tr>\n",
       "  </tbody>\n",
       "</table>\n",
       "</div>"
      ],
      "text/plain": [
       "    0\n",
       "0   3\n",
       "1   6\n",
       "2   6\n",
       "3   8\n",
       "4   2\n",
       "5   5\n",
       "6   7\n",
       "7   3\n",
       "8   8\n",
       "9   1\n",
       "10  5\n",
       "11  6\n",
       "12  4\n",
       "13  4\n",
       "14  2\n",
       "15  5\n",
       "16  6\n",
       "17  2\n",
       "18  9\n",
       "19  4\n",
       "20  2\n",
       "21  3\n",
       "22  7\n",
       "23  7\n",
       "24  7"
      ]
     },
     "execution_count": 19,
     "metadata": {},
     "output_type": "execute_result"
    }
   ],
   "source": [
    "datos_deciles = pd.DataFrame([3, 6, 6, 8, 2, 5, 7, 3, 8, 1, 5, 6, 4, 4, 2, 5, 6, 2, 9, 4, 2, 3, 7, 7, 7])\n",
    "datos_deciles"
   ]
  },
  {
   "cell_type": "code",
   "execution_count": 20,
   "id": "280ccc99",
   "metadata": {},
   "outputs": [
    {
     "data": {
      "text/plain": [
       "{'D1': (1.6, 2.0),\n",
       " 'D2': (4.2, 2.2),\n",
       " 'D3': (6.8, 3.0),\n",
       " 'D4': (9.4, 4.0),\n",
       " 'D5': (12.0, 5),\n",
       " 'D6': (14.6, 6.0),\n",
       " 'D7': (17.2, 6.2),\n",
       " 'D8': (19.8, 7.0),\n",
       " 'D9': (22.4, 8.0)}"
      ]
     },
     "execution_count": 20,
     "metadata": {},
     "output_type": "execute_result"
    }
   ],
   "source": [
    "medidas_posicion(datos_deciles, k=10)"
   ]
  },
  {
   "cell_type": "markdown",
   "id": "8a561a33",
   "metadata": {},
   "source": [
    "### Percentiles"
   ]
  },
  {
   "cell_type": "markdown",
   "id": "59d8bcad",
   "metadata": {},
   "source": [
    "Ejercicio.\n",
    "    Las evaluaciones de 25 clientes sobre el servicio de atencion al cliente de una empresa de venta e instalacion de aparatos de ventilacion son (puntadas entre 0 y 10):\n",
    "    \n",
    "    cual es el percentil 85% y que significa?"
   ]
  },
  {
   "cell_type": "markdown",
   "id": "e31a870f",
   "metadata": {},
   "source": [
    "**Primera opcion para resolver:**  \n",
    "Usando mi formula de ***medidas_posicion(k=100)*** para percentiles y buscamos el percentil deseado"
   ]
  },
  {
   "cell_type": "code",
   "execution_count": 70,
   "id": "7ce044d3",
   "metadata": {
    "scrolled": true
   },
   "outputs": [
    {
     "data": {
      "text/plain": [
       "{'P1': (-0.74, 0.26),\n",
       " 'P2': (-0.48, 0.52),\n",
       " 'P3': (-0.22, 0.78),\n",
       " 'P4': (0.04, 1.04),\n",
       " 'P5': (0.3, 1.3),\n",
       " 'P6': (0.56, 1.56),\n",
       " 'P7': (0.82, 1.82),\n",
       " 'P8': (1.08, 2.0),\n",
       " 'P9': (1.34, 2.0),\n",
       " 'P10': (1.6, 2.0),\n",
       " 'P11': (1.86, 2.0),\n",
       " 'P12': (2.12, 2.0),\n",
       " 'P13': (2.38, 2.0),\n",
       " 'P14': (2.64, 2.0),\n",
       " 'P15': (2.9, 2.0),\n",
       " 'P16': (3.16, 2.0),\n",
       " 'P17': (3.42, 2.0),\n",
       " 'P18': (3.68, 2.0),\n",
       " 'P19': (3.94, 2.0),\n",
       " 'P20': (4.2, 2.2),\n",
       " 'P21': (4.46, 2.46),\n",
       " 'P22': (4.72, 2.72),\n",
       " 'P23': (4.98, 2.98),\n",
       " 'P24': (5.24, 3.0),\n",
       " 'P25': (5.5, 3.0),\n",
       " 'P26': (5.76, 3.0),\n",
       " 'P27': (6.02, 3.0),\n",
       " 'P28': (6.28, 3.0),\n",
       " 'P29': (6.54, 3.0),\n",
       " 'P30': (6.8, 3.0),\n",
       " 'P31': (7.06, 3.06),\n",
       " 'P32': (7.32, 3.32),\n",
       " 'P33': (7.58, 3.58),\n",
       " 'P34': (7.84, 3.84),\n",
       " 'P35': (8.1, 4.0),\n",
       " 'P36': (8.36, 4.0),\n",
       " 'P37': (8.62, 4.0),\n",
       " 'P38': (8.88, 4.0),\n",
       " 'P39': (9.14, 4.0),\n",
       " 'P40': (9.4, 4.0),\n",
       " 'P41': (9.66, 4.0),\n",
       " 'P42': (9.92, 4.0),\n",
       " 'P43': (10.18, 4.18),\n",
       " 'P44': (10.44, 4.44),\n",
       " 'P45': (10.7, 4.7),\n",
       " 'P46': (10.96, 4.96),\n",
       " 'P47': (11.22, 5.0),\n",
       " 'P48': (11.48, 5.0),\n",
       " 'P49': (11.74, 5.0),\n",
       " 'P50': (12.0, 5),\n",
       " 'P51': (12.26, 5.0),\n",
       " 'P52': (12.52, 5.0),\n",
       " 'P53': (12.78, 5.0),\n",
       " 'P54': (13.04, 5.04),\n",
       " 'P55': (13.3, 5.3),\n",
       " 'P56': (13.56, 5.56),\n",
       " 'P57': (13.82, 5.82),\n",
       " 'P58': (14.08, 6.0),\n",
       " 'P59': (14.34, 6.0),\n",
       " 'P60': (14.6, 6.0),\n",
       " 'P61': (14.86, 6.0),\n",
       " 'P62': (15.12, 6.0),\n",
       " 'P63': (15.38, 6.0),\n",
       " 'P64': (15.64, 6.0),\n",
       " 'P65': (15.9, 6.0),\n",
       " 'P66': (16.16, 6.0),\n",
       " 'P67': (16.42, 6.0),\n",
       " 'P68': (16.68, 6.0),\n",
       " 'P69': (16.94, 6.0),\n",
       " 'P70': (17.2, 6.2),\n",
       " 'P71': (17.46, 6.46),\n",
       " 'P72': (17.72, 6.72),\n",
       " 'P73': (17.98, 6.98),\n",
       " 'P74': (18.24, 7.0),\n",
       " 'P75': (18.5, 7.0),\n",
       " 'P76': (18.76, 7.0),\n",
       " 'P77': (19.02, 7.0),\n",
       " 'P78': (19.28, 7.0),\n",
       " 'P79': (19.54, 7.0),\n",
       " 'P80': (19.8, 7.0),\n",
       " 'P81': (20.06, 7.0),\n",
       " 'P82': (20.32, 7.0),\n",
       " 'P83': (20.58, 7.0),\n",
       " 'P84': (20.84, 7.0),\n",
       " 'P85': (21.1, 7.1),\n",
       " 'P86': (21.36, 7.36),\n",
       " 'P87': (21.62, 7.62),\n",
       " 'P88': (21.88, 7.88),\n",
       " 'P89': (22.14, 8.0),\n",
       " 'P90': (22.4, 8.0),\n",
       " 'P91': (22.66, 8.0),\n",
       " 'P92': (22.92, 8.0),\n",
       " 'P93': (23.18, 8.18),\n",
       " 'P94': (23.44, 8.44),\n",
       " 'P95': (23.7, 8.7),\n",
       " 'P96': (23.96, 8.96),\n",
       " 'P97': (24.22, 9.0),\n",
       " 'P98': (24.48, 9.0),\n",
       " 'P99': (24.74, 9.0)}"
      ]
     },
     "execution_count": 70,
     "metadata": {},
     "output_type": "execute_result"
    }
   ],
   "source": [
    "percentiles = medidas_posicion(datos_deciles, k=100)\n",
    "percentiles"
   ]
  },
  {
   "cell_type": "code",
   "execution_count": 87,
   "id": "4a105eb4",
   "metadata": {},
   "outputs": [
    {
     "name": "stdout",
     "output_type": "stream",
     "text": [
      "\n",
      "Esto es, que el 85% de los clientes, 21.0 clientes, dan una evaluacion de 7.0\n",
      "o inferior.\n",
      "\n"
     ]
    }
   ],
   "source": [
    "percentil_a_buscar = 'P85'\n",
    "resultado_percentil_a_buscar = percentiles[percentil_a_buscar]\n",
    "print(\n",
    "f'''\n",
    "Esto es, que el {percentil_a_buscar[1:]}% de los clientes, {round(resultado_percentil_a_buscar[0],0)} clientes, dan una evaluacion de {round(resultado_percentil_a_buscar[1],0)}\n",
    "o inferior.\n",
    "''')"
   ]
  },
  {
   "cell_type": "markdown",
   "id": "13005dea",
   "metadata": {},
   "source": [
    "#### Segunda opcion para resolver:\n",
    "Usando mi formula ***calculo_frecuencias()***  \n",
    "Buscamos la frecuencia relativa inmediata, que contenga el porcentaje deseado."
   ]
  },
  {
   "cell_type": "code",
   "execution_count": 88,
   "id": "4aa86be2",
   "metadata": {},
   "outputs": [
    {
     "data": {
      "text/html": [
       "<div>\n",
       "<style scoped>\n",
       "    .dataframe tbody tr th:only-of-type {\n",
       "        vertical-align: middle;\n",
       "    }\n",
       "\n",
       "    .dataframe tbody tr th {\n",
       "        vertical-align: top;\n",
       "    }\n",
       "\n",
       "    .dataframe thead th {\n",
       "        text-align: right;\n",
       "    }\n",
       "</style>\n",
       "<table border=\"1\" class=\"dataframe\">\n",
       "  <thead>\n",
       "    <tr style=\"text-align: right;\">\n",
       "      <th></th>\n",
       "      <th>fa</th>\n",
       "      <th>faa</th>\n",
       "      <th>fr</th>\n",
       "      <th>far</th>\n",
       "    </tr>\n",
       "    <tr>\n",
       "      <th>xi</th>\n",
       "      <th></th>\n",
       "      <th></th>\n",
       "      <th></th>\n",
       "      <th></th>\n",
       "    </tr>\n",
       "  </thead>\n",
       "  <tbody>\n",
       "    <tr>\n",
       "      <th>1</th>\n",
       "      <td>1</td>\n",
       "      <td>1</td>\n",
       "      <td>0.04</td>\n",
       "      <td>0.04</td>\n",
       "    </tr>\n",
       "    <tr>\n",
       "      <th>2</th>\n",
       "      <td>4</td>\n",
       "      <td>5</td>\n",
       "      <td>0.16</td>\n",
       "      <td>0.2</td>\n",
       "    </tr>\n",
       "    <tr>\n",
       "      <th>3</th>\n",
       "      <td>3</td>\n",
       "      <td>8</td>\n",
       "      <td>0.12</td>\n",
       "      <td>0.32</td>\n",
       "    </tr>\n",
       "    <tr>\n",
       "      <th>4</th>\n",
       "      <td>3</td>\n",
       "      <td>11</td>\n",
       "      <td>0.12</td>\n",
       "      <td>0.44</td>\n",
       "    </tr>\n",
       "    <tr>\n",
       "      <th>5</th>\n",
       "      <td>3</td>\n",
       "      <td>14</td>\n",
       "      <td>0.12</td>\n",
       "      <td>0.56</td>\n",
       "    </tr>\n",
       "    <tr>\n",
       "      <th>6</th>\n",
       "      <td>4</td>\n",
       "      <td>18</td>\n",
       "      <td>0.16</td>\n",
       "      <td>0.72</td>\n",
       "    </tr>\n",
       "    <tr>\n",
       "      <th>7</th>\n",
       "      <td>4</td>\n",
       "      <td>22</td>\n",
       "      <td>0.16</td>\n",
       "      <td>0.88</td>\n",
       "    </tr>\n",
       "    <tr>\n",
       "      <th>8</th>\n",
       "      <td>2</td>\n",
       "      <td>24</td>\n",
       "      <td>0.08</td>\n",
       "      <td>0.96</td>\n",
       "    </tr>\n",
       "    <tr>\n",
       "      <th>9</th>\n",
       "      <td>1</td>\n",
       "      <td>25</td>\n",
       "      <td>0.04</td>\n",
       "      <td>1.0</td>\n",
       "    </tr>\n",
       "    <tr>\n",
       "      <th>10</th>\n",
       "      <td>0</td>\n",
       "      <td>25</td>\n",
       "      <td>0.0</td>\n",
       "      <td>1.0</td>\n",
       "    </tr>\n",
       "  </tbody>\n",
       "</table>\n",
       "</div>"
      ],
      "text/plain": [
       "0  fa faa    fr   far\n",
       "xi                   \n",
       "1   1   1  0.04  0.04\n",
       "2   4   5  0.16   0.2\n",
       "3   3   8  0.12  0.32\n",
       "4   3  11  0.12  0.44\n",
       "5   3  14  0.12  0.56\n",
       "6   4  18  0.16  0.72\n",
       "7   4  22  0.16  0.88\n",
       "8   2  24  0.08  0.96\n",
       "9   1  25  0.04   1.0\n",
       "10  0  25   0.0   1.0"
      ]
     },
     "execution_count": 88,
     "metadata": {},
     "output_type": "execute_result"
    }
   ],
   "source": [
    "intervalos = [1, 2, 3, 4, 5, 6, 7, 8, 9, 10]\n",
    "\n",
    "frecuencias = calculo_frecuencias(datos_deciles, intervalos=intervalos)\n",
    "\n",
    "df_frecuencias = pd.DataFrame(frecuencias1)\n",
    "\n",
    "# Establecemos los nombres de las columnas y el index\n",
    "df_frecuencias = df_frecuencias.transpose().set_index(0).transpose().set_index('xi')\n",
    "\n",
    "df_frecuencias"
   ]
  },
  {
   "cell_type": "code",
   "execution_count": 108,
   "id": "fb2bc386",
   "metadata": {},
   "outputs": [
    {
     "data": {
      "text/plain": [
       "0\n",
       "fa        4\n",
       "faa      22\n",
       "fr     0.16\n",
       "far    0.88\n",
       "Name: 7, dtype: object"
      ]
     },
     "execution_count": 108,
     "metadata": {},
     "output_type": "execute_result"
    }
   ],
   "source": [
    "porcentaje_a_buscar = .85\n",
    "mascara_puntaje = df_frecuencias['far'] > porcentaje_a_buscar\n",
    "index_resultado = df_frecuencias[mascara_puntaje].index.min()\n",
    "\n",
    "resultado = df_frecuencias.loc[index_resultado]\n",
    "resultado"
   ]
  },
  {
   "cell_type": "code",
   "execution_count": 110,
   "id": "a8168a2e",
   "metadata": {},
   "outputs": [
    {
     "name": "stdout",
     "output_type": "stream",
     "text": [
      "\n",
      "Quiere decir que el 0.85 de los clientes, 22 clientes, dieron una calificacion de 7 o menos\n",
      "\n"
     ]
    }
   ],
   "source": [
    "print(\n",
    "f'''\n",
    "Quiere decir que el {porcentaje_a_buscar} de los clientes, {resultado['faa']} clientes, dieron una calificacion de {index_resultado} o menos\n",
    "''')"
   ]
  },
  {
   "cell_type": "code",
   "execution_count": null,
   "id": "6e99dd61",
   "metadata": {},
   "outputs": [],
   "source": []
  }
 ],
 "metadata": {
  "kernelspec": {
   "display_name": "Python 3",
   "language": "python",
   "name": "python3"
  },
  "language_info": {
   "codemirror_mode": {
    "name": "ipython",
    "version": 3
   },
   "file_extension": ".py",
   "mimetype": "text/x-python",
   "name": "python",
   "nbconvert_exporter": "python",
   "pygments_lexer": "ipython3",
   "version": "3.8.8"
  }
 },
 "nbformat": 4,
 "nbformat_minor": 5
}
